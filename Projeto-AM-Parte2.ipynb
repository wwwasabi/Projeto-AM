{
 "metadata": {
  "language_info": {
   "codemirror_mode": {
    "name": "ipython",
    "version": 3
   },
   "file_extension": ".py",
   "mimetype": "text/x-python",
   "name": "python",
   "nbconvert_exporter": "python",
   "pygments_lexer": "ipython3",
   "version": "3.9.5"
  },
  "orig_nbformat": 2,
  "kernelspec": {
   "name": "python3",
   "display_name": "Python 3.9.5 64-bit"
  },
  "metadata": {
   "interpreter": {
    "hash": "c0d10dbc30a95fb9735865537ab8de95bfb77c97d9293007430aee54e0d0df8f"
   }
  },
  "interpreter": {
   "hash": "c0d10dbc30a95fb9735865537ab8de95bfb77c97d9293007430aee54e0d0df8f"
  }
 },
 "nbformat": 4,
 "nbformat_minor": 2,
 "cells": [
  {
   "cell_type": "code",
   "execution_count": 5,
   "metadata": {},
   "outputs": [],
   "source": [
    "import pandas as pd\n",
    "from io import StringIO\n",
    "\n",
    "#Transformando o arquivo dat em dataframe\n",
    "txt = open('C:/Users/kalinx/Documents/Python Scripts/Projeto-AM/yeast1.dat', 'r')\n",
    "\n",
    "dados = pd.DataFrame( \n",
    "    [[str(token) for token in line.split()]  \n",
    "        for line in txt if line.strip()],\n",
    "     columns = [\"Linha\", \"nuc\", \"vac\", \"pox\", \"erl\", \"mit\", \"alm\", \"gvh\", \"mcg\", \"Sequence Name\"]\n",
    ")"
   ]
  },
  {
   "cell_type": "code",
   "execution_count": 6,
   "metadata": {},
   "outputs": [],
   "source": [
    "#Excluindo a coluna \"Linha\"\n",
    "dados = dados.drop('Linha', axis=1)"
   ]
  },
  {
   "cell_type": "code",
   "execution_count": 7,
   "metadata": {},
   "outputs": [
    {
     "output_type": "execute_result",
     "data": {
      "text/plain": [
       "       nuc   vac   pox   erl   mit   alm   gvh   mcg Sequence Name\n",
       "0     0.58  0.61  0.47  0.13  0.50  0.00  0.48  0.22           MIT\n",
       "1     0.43  0.67  0.48  0.27  0.50  0.00  0.53  0.22           MIT\n",
       "2     0.64  0.62  0.49  0.15  0.50  0.00  0.53  0.22           MIT\n",
       "3     0.58  0.44  0.57  0.13  0.50  0.00  0.54  0.22           NUC\n",
       "4     0.42  0.44  0.48  0.54  0.50  0.00  0.48  0.22           MIT\n",
       "...    ...   ...   ...   ...   ...   ...   ...   ...           ...\n",
       "1479  0.81  0.62  0.43  0.17  0.50  0.00  0.53  0.22           ME2\n",
       "1480  0.47  0.43  0.61  0.40  0.50  0.00  0.48  0.47           NUC\n",
       "1481  0.67  0.57  0.36  0.19  0.50  0.00  0.56  0.22           ME2\n",
       "1482  0.43  0.40  0.60  0.16  0.50  0.00  0.53  0.39           NUC\n",
       "1483  0.65  0.54  0.54  0.13  0.50  0.00  0.53  0.22           CYT\n",
       "\n",
       "[1484 rows x 9 columns]"
      ],
      "text/html": "<div>\n<style scoped>\n    .dataframe tbody tr th:only-of-type {\n        vertical-align: middle;\n    }\n\n    .dataframe tbody tr th {\n        vertical-align: top;\n    }\n\n    .dataframe thead th {\n        text-align: right;\n    }\n</style>\n<table border=\"1\" class=\"dataframe\">\n  <thead>\n    <tr style=\"text-align: right;\">\n      <th></th>\n      <th>nuc</th>\n      <th>vac</th>\n      <th>pox</th>\n      <th>erl</th>\n      <th>mit</th>\n      <th>alm</th>\n      <th>gvh</th>\n      <th>mcg</th>\n      <th>Sequence Name</th>\n    </tr>\n  </thead>\n  <tbody>\n    <tr>\n      <th>0</th>\n      <td>0.58</td>\n      <td>0.61</td>\n      <td>0.47</td>\n      <td>0.13</td>\n      <td>0.50</td>\n      <td>0.00</td>\n      <td>0.48</td>\n      <td>0.22</td>\n      <td>MIT</td>\n    </tr>\n    <tr>\n      <th>1</th>\n      <td>0.43</td>\n      <td>0.67</td>\n      <td>0.48</td>\n      <td>0.27</td>\n      <td>0.50</td>\n      <td>0.00</td>\n      <td>0.53</td>\n      <td>0.22</td>\n      <td>MIT</td>\n    </tr>\n    <tr>\n      <th>2</th>\n      <td>0.64</td>\n      <td>0.62</td>\n      <td>0.49</td>\n      <td>0.15</td>\n      <td>0.50</td>\n      <td>0.00</td>\n      <td>0.53</td>\n      <td>0.22</td>\n      <td>MIT</td>\n    </tr>\n    <tr>\n      <th>3</th>\n      <td>0.58</td>\n      <td>0.44</td>\n      <td>0.57</td>\n      <td>0.13</td>\n      <td>0.50</td>\n      <td>0.00</td>\n      <td>0.54</td>\n      <td>0.22</td>\n      <td>NUC</td>\n    </tr>\n    <tr>\n      <th>4</th>\n      <td>0.42</td>\n      <td>0.44</td>\n      <td>0.48</td>\n      <td>0.54</td>\n      <td>0.50</td>\n      <td>0.00</td>\n      <td>0.48</td>\n      <td>0.22</td>\n      <td>MIT</td>\n    </tr>\n    <tr>\n      <th>...</th>\n      <td>...</td>\n      <td>...</td>\n      <td>...</td>\n      <td>...</td>\n      <td>...</td>\n      <td>...</td>\n      <td>...</td>\n      <td>...</td>\n      <td>...</td>\n    </tr>\n    <tr>\n      <th>1479</th>\n      <td>0.81</td>\n      <td>0.62</td>\n      <td>0.43</td>\n      <td>0.17</td>\n      <td>0.50</td>\n      <td>0.00</td>\n      <td>0.53</td>\n      <td>0.22</td>\n      <td>ME2</td>\n    </tr>\n    <tr>\n      <th>1480</th>\n      <td>0.47</td>\n      <td>0.43</td>\n      <td>0.61</td>\n      <td>0.40</td>\n      <td>0.50</td>\n      <td>0.00</td>\n      <td>0.48</td>\n      <td>0.47</td>\n      <td>NUC</td>\n    </tr>\n    <tr>\n      <th>1481</th>\n      <td>0.67</td>\n      <td>0.57</td>\n      <td>0.36</td>\n      <td>0.19</td>\n      <td>0.50</td>\n      <td>0.00</td>\n      <td>0.56</td>\n      <td>0.22</td>\n      <td>ME2</td>\n    </tr>\n    <tr>\n      <th>1482</th>\n      <td>0.43</td>\n      <td>0.40</td>\n      <td>0.60</td>\n      <td>0.16</td>\n      <td>0.50</td>\n      <td>0.00</td>\n      <td>0.53</td>\n      <td>0.39</td>\n      <td>NUC</td>\n    </tr>\n    <tr>\n      <th>1483</th>\n      <td>0.65</td>\n      <td>0.54</td>\n      <td>0.54</td>\n      <td>0.13</td>\n      <td>0.50</td>\n      <td>0.00</td>\n      <td>0.53</td>\n      <td>0.22</td>\n      <td>CYT</td>\n    </tr>\n  </tbody>\n</table>\n<p>1484 rows × 9 columns</p>\n</div>"
     },
     "metadata": {},
     "execution_count": 7
    }
   ],
   "source": [
    "dados"
   ]
  },
  {
   "cell_type": "code",
   "execution_count": 11,
   "metadata": {},
   "outputs": [
    {
     "output_type": "stream",
     "name": "stdout",
     "text": [
      "12.556053811659194\n",
      "55.15695067264574\n",
      "53.81165919282511\n",
      "C:\\Users\\kalinx\\AppData\\Local\\Programs\\Python\\Python39\\lib\\site-packages\\sklearn\\linear_model\\_logistic.py:763: ConvergenceWarning: lbfgs failed to converge (status=1):\n",
      "STOP: TOTAL NO. of ITERATIONS REACHED LIMIT.\n",
      "\n",
      "Increase the number of iterations (max_iter) or scale the data as shown in:\n",
      "    https://scikit-learn.org/stable/modules/preprocessing.html\n",
      "Please also refer to the documentation for alternative solver options:\n",
      "    https://scikit-learn.org/stable/modules/linear_model.html#logistic-regression\n",
      "  n_iter_i = _check_optimize_result(\n"
     ]
    }
   ],
   "source": [
    "#Importando bayes\n",
    "from sklearn.naive_bayes import GaussianNB\n",
    "from sklearn.neighbors import KNeighborsClassifier\n",
    "from sklearn.linear_model import LogisticRegression\n",
    "from sklearn.model_selection import train_test_split\n",
    "\n",
    "y = dados['Sequence Name']\n",
    "x = dados.drop('Sequence Name', axis=1)\n",
    "\n",
    "x_treino, x_teste , y_treino, y_teste = train_test_split(x, y, test_size=0.3, random_state=7)\n",
    "x_treino2, x_teste2 , y_treino2, y_teste2 = train_test_split(x, y, test_size=0.3, random_state=7)\n",
    "x_treino3, x_teste3 , y_treino3, y_teste3 = train_test_split(x, y, test_size=0.3, random_state=7)\n",
    "\n",
    "modelo = GaussianNB()\n",
    "modelo2 = KNeighborsClassifier()\n",
    "modelo3 = LogisticRegression()\n",
    "\n",
    "modelo.fit(x_treino, y_treino)\n",
    "modelo2.fit(x_treino2, y_treino2)\n",
    "modelo3.fit(x_treino3, y_treino3)\n",
    "\n",
    "resultado = modelo.score(x_teste, y_teste)\n",
    "resultado2 = modelo2.score(x_teste2, y_teste2)\n",
    "resultado3 = modelo3.score(x_teste3, y_teste3)\n",
    "\n",
    "print(resultado*100)\n",
    "print(resultado2*100)\n",
    "print(resultado3*100)"
   ]
  },
  {
   "cell_type": "code",
   "execution_count": null,
   "metadata": {},
   "outputs": [],
   "source": []
  }
 ]
}