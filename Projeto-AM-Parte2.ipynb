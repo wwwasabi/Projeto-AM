{
 "metadata": {
  "language_info": {
   "codemirror_mode": {
    "name": "ipython",
    "version": 3
   },
   "file_extension": ".py",
   "mimetype": "text/x-python",
   "name": "python",
   "nbconvert_exporter": "python",
   "pygments_lexer": "ipython3",
   "version": "3.9.5"
  },
  "orig_nbformat": 2,
  "kernelspec": {
   "name": "python395jvsc74a57bd0c0d10dbc30a95fb9735865537ab8de95bfb77c97d9293007430aee54e0d0df8f",
   "display_name": "Python 3.9.5 64-bit"
  },
  "metadata": {
   "interpreter": {
    "hash": "c0d10dbc30a95fb9735865537ab8de95bfb77c97d9293007430aee54e0d0df8f"
   }
  }
 },
 "nbformat": 4,
 "nbformat_minor": 2,
 "cells": [
  {
   "cell_type": "code",
   "execution_count": null,
   "metadata": {},
   "outputs": [],
   "source": [
    "import pandas as pd\n",
    "from io import StringIO\n",
    "\n",
    "#Transformando o arquivo dat em dataframe\n",
    "\n",
    "txt = open('C:/Users/kalinx/Documents/Python Scripts/Projeto-AM/yeast1.dat', 'r')\n",
    "\n",
    "dados = pd.DataFrame( \n",
    "    [[str(token) for token in line.split()]  \n",
    "        for line in txt if line.strip()],\n",
    "     columns = [\"Linha\", \"nuc\", \"vac\", \"pox\", \"erl\", \"mit\", \"alm\", \"gvh\", \"mcg\", \"Sequence Name\"]\n",
    ")"
   ]
  },
  {
   "cell_type": "code",
   "execution_count": null,
   "metadata": {},
   "outputs": [],
   "source": [
    "#Excluindo a coluna \"Linha\"\n",
    "dados = dados.drop('Linha', axis=1)"
   ]
  },
  {
   "cell_type": "code",
   "execution_count": null,
   "metadata": {},
   "outputs": [],
   "source": [
    "dados"
   ]
  },
  {
   "cell_type": "code",
   "execution_count": null,
   "metadata": {},
   "outputs": [],
   "source": [
    "#Importando bayes\n",
    "from sklearn.naive_bayes import GaussianNB\n",
    "from sklearn.model_selection import train_test_split\n",
    "\n",
    "y = dados['Sequence Name']\n",
    "x = dados.drop('Sequence Name', axis=1)\n",
    "\n",
    "x_treino, x_teste , y_treino, y_teste = train_test_split(x, y, test_size=0.3, random_state=7)\n",
    "\n",
    "modelo = GaussianNB()\n",
    "modelo.fit(x_treino, y_treino)\n",
    "\n",
    "resultado = modelo.score(x_teste, y_teste)\n",
    "\n",
    "print(resultado*100)\n",
    "\n"
   ]
  }
 ]
}