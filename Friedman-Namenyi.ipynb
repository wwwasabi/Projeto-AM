{
 "metadata": {
  "language_info": {
   "codemirror_mode": {
    "name": "ipython",
    "version": 3
   },
   "file_extension": ".py",
   "mimetype": "text/x-python",
   "name": "python",
   "nbconvert_exporter": "python",
   "pygments_lexer": "ipython3",
   "version": 3
  },
  "orig_nbformat": 2
 },
 "nbformat": 4,
 "nbformat_minor": 2,
 "cells": [
  {
   "cell_type": "code",
   "execution_count": null,
   "metadata": {},
   "outputs": [],
   "source": [
    "#Teste de performance Friedman\n",
    "from scipy import stats\n",
    "\n",
    "#Exemplo\n",
    "group1 = [4, 6, 3, 4, 3, 2, 2, 7, 6, 5]\n",
    "group2 = [5, 6, 8, 7, 7, 8, 4, 6, 4, 5]\n",
    "group3 = [2, 2, 5, 3, 2, 2, 1, 4, 3, 2]\n",
    "\n",
    "\n",
    "stats.friedmanchisquare(group1, group2, group3)"
   ]
  },
  {
   "cell_type": "code",
   "execution_count": null,
   "metadata": {},
   "outputs": [],
   "source": [
    "#Pós Teste Namenyi\n",
    "import scikit_posthocs as sp\n",
    "import numpy as np\n",
    "\n",
    "data = np.array([group1, group2, group3])\n",
    "\n",
    "#perform Nemenyi post-hoc test\n",
    "sp.posthoc_nemenyi_friedman(data.T)"
   ]
  }
 ]
}